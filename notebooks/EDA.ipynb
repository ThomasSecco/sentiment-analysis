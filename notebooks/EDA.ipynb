{
 "cells": [
  {
   "cell_type": "code",
   "execution_count": null,
   "metadata": {},
   "outputs": [],
   "source": [
    "# notebooks/EDA.ipynb\n",
    "\n",
    "# Import libraries\n",
    "import pandas as pd\n",
    "import matplotlib.pyplot as plt\n",
    "import seaborn as sns\n",
    "from wordcloud import WordCloud\n",
    "import nltk\n",
    "import re\n",
    "import numpy as np\n"
   ]
  },
  {
   "cell_type": "code",
   "execution_count": null,
   "metadata": {},
   "outputs": [],
   "source": [
    "\n",
    "# Load data\n",
    "data = pd.read_csv(\"../data/raw/imdb_reviews.csv\")\n"
   ]
  },
  {
   "cell_type": "code",
   "execution_count": null,
   "metadata": {},
   "outputs": [],
   "source": [
    "# Display first few rows of the dataset\n",
    "print(\"First few rows of the dataset:\")\n",
    "display(data.head())\n",
    "\n",
    "# Sentiment distribution\n",
    "plt.figure(figsize=(8, 5))\n",
    "sns.countplot(x='sentiment', data=data)\n",
    "plt.title(\"Sentiment Distribution\")\n",
    "plt.xlabel(\"Sentiment\")\n",
    "plt.ylabel(\"Count\")\n",
    "plt.show()\n"
   ]
  },
  {
   "cell_type": "code",
   "execution_count": null,
   "metadata": {},
   "outputs": [],
   "source": [
    "\n",
    "# Average review length\n",
    "data['review_length'] = data['review'].apply(lambda x: len(x.split()))\n",
    "print(\"Average review length:\", np.mean(data['review_length']))\n",
    "\n",
    "# Text cleaning function for word cloud preparation\n",
    "def clean_text(text):\n",
    "    text = re.sub(r\"[^a-zA-Z\\s]\", \"\", text.lower())\n",
    "    text = ' '.join([word for word in text.split() if word not in nltk.corpus.stopwords.words('english')])\n",
    "    return text\n"
   ]
  },
  {
   "cell_type": "code",
   "execution_count": null,
   "metadata": {},
   "outputs": [],
   "source": [
    "\n",
    "# Word cloud for positive and negative reviews\n",
    "positive_text = ' '.join(data[data['sentiment'] == 'positive']['review'].apply(clean_text))\n",
    "negative_text = ' '.join(data[data['sentiment'] == 'negative']['review'].apply(clean_text))\n",
    "\n",
    "# Generate word cloud for positive reviews\n",
    "plt.figure(figsize=(10, 5))\n",
    "wordcloud_pos = WordCloud(width=800, height=400, background_color='white').generate(positive_text)\n",
    "plt.imshow(wordcloud_pos, interpolation='bilinear')\n",
    "plt.title(\"Word Cloud - Positive Reviews\")\n",
    "plt.axis(\"off\")\n",
    "plt.show()\n"
   ]
  },
  {
   "cell_type": "code",
   "execution_count": null,
   "metadata": {},
   "outputs": [],
   "source": [
    "\n",
    "# Generate word cloud for negative reviews\n",
    "plt.figure(figsize=(10, 5))\n",
    "wordcloud_neg = WordCloud(width=800, height=400, background_color='white').generate(negative_text)\n",
    "plt.imshow(wordcloud_neg, interpolation='bilinear')\n",
    "plt.title(\"Word Cloud - Negative Reviews\")\n",
    "plt.axis(\"off\")\n",
    "plt.show()"
   ]
  }
 ],
 "metadata": {
  "language_info": {
   "name": "python"
  }
 },
 "nbformat": 4,
 "nbformat_minor": 2
}
